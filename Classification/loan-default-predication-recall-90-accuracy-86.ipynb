{
 "cells": [
  {
   "cell_type": "code",
   "execution_count": 1,
   "id": "statistical-representative",
   "metadata": {
    "_cell_guid": "b1076dfc-b9ad-4769-8c92-a6c4dae69d19",
    "_uuid": "8f2839f25d086af736a60e9eeb907d3b93b6e0e5",
    "execution": {
     "iopub.execute_input": "2021-05-13T10:03:13.537133Z",
     "iopub.status.busy": "2021-05-13T10:03:13.532120Z",
     "iopub.status.idle": "2021-05-13T10:03:14.442791Z",
     "shell.execute_reply": "2021-05-13T10:03:14.443325Z"
    },
    "papermill": {
     "duration": 0.938936,
     "end_time": "2021-05-13T10:03:14.443695",
     "exception": false,
     "start_time": "2021-05-13T10:03:13.504759",
     "status": "completed"
    },
    "tags": []
   },
   "outputs": [
    {
     "name": "stdout",
     "output_type": "stream",
     "text": [
      "/kaggle/input/loan-default-prediction/Default_Fin.csv\n"
     ]
    }
   ],
   "source": [
    "# This Python 3 environment comes with many helpful analytics libraries installed\n",
    "# It is defined by the kaggle/python Docker image: https://github.com/kaggle/docker-python\n",
    "# For example, here's several helpful packages to load\n",
    "\n",
    "import numpy as np # linear algebra\n",
    "import pandas as pd # data processing, CSV file I/O (e.g. pd.read_csv)\n",
    "import matplotlib.pyplot as plt\n",
    "import seaborn as sns\n",
    "\n",
    "# Input data files are available in the read-only \"../input/\" directory\n",
    "# For example, running this (by clicking run or pressing Shift+Enter) will list all files under the input directory\n",
    "\n",
    "import os\n",
    "for dirname, _, filenames in os.walk('/kaggle/input'):\n",
    "    for filename in filenames:\n",
    "        print(os.path.join(dirname, filename))\n",
    "\n",
    "# You can write up to 20GB to the current directory (/kaggle/working/) that gets preserved as output when you create a version using \"Save & Run All\" \n",
    "# You can also write temporary files to /kaggle/temp/, but they won't be saved outside of the current session"
   ]
  },
  {
   "cell_type": "code",
   "execution_count": 2,
   "id": "usual-thunder",
   "metadata": {
    "execution": {
     "iopub.execute_input": "2021-05-13T10:03:14.482309Z",
     "iopub.status.busy": "2021-05-13T10:03:14.481650Z",
     "iopub.status.idle": "2021-05-13T10:03:14.530653Z",
     "shell.execute_reply": "2021-05-13T10:03:14.531247Z"
    },
    "papermill": {
     "duration": 0.070875,
     "end_time": "2021-05-13T10:03:14.531452",
     "exception": false,
     "start_time": "2021-05-13T10:03:14.460577",
     "status": "completed"
    },
    "tags": []
   },
   "outputs": [
    {
     "data": {
      "text/html": [
       "<div>\n",
       "<style scoped>\n",
       "    .dataframe tbody tr th:only-of-type {\n",
       "        vertical-align: middle;\n",
       "    }\n",
       "\n",
       "    .dataframe tbody tr th {\n",
       "        vertical-align: top;\n",
       "    }\n",
       "\n",
       "    .dataframe thead th {\n",
       "        text-align: right;\n",
       "    }\n",
       "</style>\n",
       "<table border=\"1\" class=\"dataframe\">\n",
       "  <thead>\n",
       "    <tr style=\"text-align: right;\">\n",
       "      <th></th>\n",
       "      <th>Index</th>\n",
       "      <th>Employed</th>\n",
       "      <th>Bank Balance</th>\n",
       "      <th>Annual Salary</th>\n",
       "      <th>Defaulted?</th>\n",
       "    </tr>\n",
       "  </thead>\n",
       "  <tbody>\n",
       "    <tr>\n",
       "      <th>0</th>\n",
       "      <td>1</td>\n",
       "      <td>1</td>\n",
       "      <td>8754.36</td>\n",
       "      <td>532339.56</td>\n",
       "      <td>0</td>\n",
       "    </tr>\n",
       "    <tr>\n",
       "      <th>1</th>\n",
       "      <td>2</td>\n",
       "      <td>0</td>\n",
       "      <td>9806.16</td>\n",
       "      <td>145273.56</td>\n",
       "      <td>0</td>\n",
       "    </tr>\n",
       "    <tr>\n",
       "      <th>2</th>\n",
       "      <td>3</td>\n",
       "      <td>1</td>\n",
       "      <td>12882.60</td>\n",
       "      <td>381205.68</td>\n",
       "      <td>0</td>\n",
       "    </tr>\n",
       "    <tr>\n",
       "      <th>3</th>\n",
       "      <td>4</td>\n",
       "      <td>1</td>\n",
       "      <td>6351.00</td>\n",
       "      <td>428453.88</td>\n",
       "      <td>0</td>\n",
       "    </tr>\n",
       "    <tr>\n",
       "      <th>4</th>\n",
       "      <td>5</td>\n",
       "      <td>1</td>\n",
       "      <td>9427.92</td>\n",
       "      <td>461562.00</td>\n",
       "      <td>0</td>\n",
       "    </tr>\n",
       "  </tbody>\n",
       "</table>\n",
       "</div>"
      ],
      "text/plain": [
       "   Index  Employed  Bank Balance  Annual Salary  Defaulted?\n",
       "0      1         1       8754.36      532339.56           0\n",
       "1      2         0       9806.16      145273.56           0\n",
       "2      3         1      12882.60      381205.68           0\n",
       "3      4         1       6351.00      428453.88           0\n",
       "4      5         1       9427.92      461562.00           0"
      ]
     },
     "execution_count": 2,
     "metadata": {},
     "output_type": "execute_result"
    }
   ],
   "source": [
    "data = pd.read_csv('/kaggle/input/loan-default-prediction/Default_Fin.csv')\n",
    "data.head()"
   ]
  },
  {
   "cell_type": "markdown",
   "id": "national-increase",
   "metadata": {
    "papermill": {
     "duration": 0.01672,
     "end_time": "2021-05-13T10:03:14.565056",
     "exception": false,
     "start_time": "2021-05-13T10:03:14.548336",
     "status": "completed"
    },
    "tags": []
   },
   "source": [
    "## Understanding Data Distribution"
   ]
  },
  {
   "cell_type": "code",
   "execution_count": 3,
   "id": "resident-complex",
   "metadata": {
    "execution": {
     "iopub.execute_input": "2021-05-13T10:03:14.603998Z",
     "iopub.status.busy": "2021-05-13T10:03:14.603340Z",
     "iopub.status.idle": "2021-05-13T10:03:14.715047Z",
     "shell.execute_reply": "2021-05-13T10:03:14.715757Z"
    },
    "papermill": {
     "duration": 0.132786,
     "end_time": "2021-05-13T10:03:14.715981",
     "exception": false,
     "start_time": "2021-05-13T10:03:14.583195",
     "status": "completed"
    },
    "tags": []
   },
   "outputs": [
    {
     "name": "stdout",
     "output_type": "stream",
     "text": [
      "                    Bank Balance                                       \\\n",
      "                           count          mean          std       min   \n",
      "Defaulted? Employed                                                     \n",
      "0          0              2817.0  11381.762386  5406.643098      0.00   \n",
      "           1              6850.0   8934.053396  5346.181753      0.00   \n",
      "1          0               127.0  22324.546772  3944.821339  12158.64   \n",
      "           1               206.0  20141.152427  3970.966677   7828.80   \n",
      "\n",
      "                                                            Annual Salary  \\\n",
      "                          25%       50%       75%       max         count   \n",
      "Defaulted? Employed                                                         \n",
      "0          0          7684.32  11437.56  15125.88  28658.04        2817.0   \n",
      "           1          4893.51   8904.78  12734.43  28692.12        6850.0   \n",
      "1          0         19651.08  22671.96  25323.36  31851.84         127.0   \n",
      "           1         17768.49  20518.98  22949.13  29988.24         206.0   \n",
      "\n",
      "                                                                         \\\n",
      "                              mean            std        min        25%   \n",
      "Defaulted? Employed                                                       \n",
      "0          0         215244.105218   54519.841499    9263.64  178310.88   \n",
      "           1         479922.182050  120034.879178   96211.68  400750.20   \n",
      "1          0         218922.098268   51654.155063  115965.48  182895.18   \n",
      "           1         487500.603495  123104.751380  175969.68  416664.90   \n",
      "\n",
      "                                                      \n",
      "                           50%        75%        max  \n",
      "Defaulted? Employed                                   \n",
      "0          0         215907.84  252311.16  396041.04  \n",
      "           1         478626.12  561345.96  882650.76  \n",
      "1          0         216253.32  249707.40  393132.60  \n",
      "           1         483368.70  586460.25  797597.52  \n"
     ]
    },
    {
     "data": {
      "text/html": [
       "<div>\n",
       "<style scoped>\n",
       "    .dataframe tbody tr th:only-of-type {\n",
       "        vertical-align: middle;\n",
       "    }\n",
       "\n",
       "    .dataframe tbody tr th {\n",
       "        vertical-align: top;\n",
       "    }\n",
       "\n",
       "    .dataframe thead th {\n",
       "        text-align: right;\n",
       "    }\n",
       "</style>\n",
       "<table border=\"1\" class=\"dataframe\">\n",
       "  <thead>\n",
       "    <tr style=\"text-align: right;\">\n",
       "      <th>Defaulted?</th>\n",
       "      <th>0</th>\n",
       "      <th>1</th>\n",
       "    </tr>\n",
       "    <tr>\n",
       "      <th>Employed</th>\n",
       "      <th></th>\n",
       "      <th></th>\n",
       "    </tr>\n",
       "  </thead>\n",
       "  <tbody>\n",
       "    <tr>\n",
       "      <th>0</th>\n",
       "      <td>0.96</td>\n",
       "      <td>0.04</td>\n",
       "    </tr>\n",
       "    <tr>\n",
       "      <th>1</th>\n",
       "      <td>0.97</td>\n",
       "      <td>0.03</td>\n",
       "    </tr>\n",
       "  </tbody>\n",
       "</table>\n",
       "</div>"
      ],
      "text/plain": [
       "Defaulted?     0     1\n",
       "Employed              \n",
       "0           0.96  0.04\n",
       "1           0.97  0.03"
      ]
     },
     "execution_count": 3,
     "metadata": {},
     "output_type": "execute_result"
    }
   ],
   "source": [
    "print(data.groupby(['Defaulted?', 'Employed'])[['Bank Balance', 'Annual Salary']].describe())\n",
    "pd.crosstab(data['Employed'], data['Defaulted?'], normalize = 'index').round(2)"
   ]
  },
  {
   "cell_type": "markdown",
   "id": "duplicate-spanking",
   "metadata": {
    "papermill": {
     "duration": 0.01772,
     "end_time": "2021-05-13T10:03:14.752068",
     "exception": false,
     "start_time": "2021-05-13T10:03:14.734348",
     "status": "completed"
    },
    "tags": []
   },
   "source": [
    "3% are defaulters in Employed<br>\n",
    "4.5% are defaulters in Unemployed"
   ]
  },
  {
   "cell_type": "code",
   "execution_count": 4,
   "id": "discrete-apparatus",
   "metadata": {
    "execution": {
     "iopub.execute_input": "2021-05-13T10:03:14.793269Z",
     "iopub.status.busy": "2021-05-13T10:03:14.792632Z",
     "iopub.status.idle": "2021-05-13T10:03:15.102120Z",
     "shell.execute_reply": "2021-05-13T10:03:15.101340Z"
    },
    "papermill": {
     "duration": 0.331319,
     "end_time": "2021-05-13T10:03:15.102282",
     "exception": false,
     "start_time": "2021-05-13T10:03:14.770963",
     "status": "completed"
    },
    "tags": []
   },
   "outputs": [
    {
     "data": {
      "image/png": "[encoded data removed]",
      "text/plain": [
       "<Figure size 720x432 with 1 Axes>"
      ]
     },
     "metadata": {
      "needs_background": "light"
     },
     "output_type": "display_data"
    }
   ],
   "source": [
    "# defaulters vs bank balance distributions\n",
    "fig = plt.figure(figsize=(10,6))\n",
    "\n",
    "sns.kdeplot(data[data['Defaulted?']==1]['Bank Balance'])\n",
    "sns.kdeplot(data[data['Defaulted?']==0]['Bank Balance'])\n",
    "\n",
    "fig.legend(labels=['Defaulted', 'Not Defaulted'])\n",
    "plt.title('Based on Bank Balance')\n",
    "plt.show()"
   ]
  },
  {
   "cell_type": "markdown",
   "id": "arabic-tunisia",
   "metadata": {
    "papermill": {
     "duration": 0.020058,
     "end_time": "2021-05-13T10:03:15.141995",
     "exception": false,
     "start_time": "2021-05-13T10:03:15.121937",
     "status": "completed"
    },
    "tags": []
   },
   "source": [
    "On average, defaulters have higher bank balance than non-defaulters."
   ]
  },
  {
   "cell_type": "code",
   "execution_count": 5,
   "id": "theoretical-power",
   "metadata": {
    "execution": {
     "iopub.execute_input": "2021-05-13T10:03:15.233355Z",
     "iopub.status.busy": "2021-05-13T10:03:15.213003Z",
     "iopub.status.idle": "2021-05-13T10:03:15.447852Z",
     "shell.execute_reply": "2021-05-13T10:03:15.446996Z"
    },
    "papermill": {
     "duration": 0.285053,
     "end_time": "2021-05-13T10:03:15.448014",
     "exception": false,
     "start_time": "2021-05-13T10:03:15.162961",
     "status": "completed"
    },
    "tags": []
   },
   "outputs": [
    {
     "data": {
      "image/png": "[encoded data removed]",
      "text/plain": [
       "<Figure size 720x432 with 1 Axes>"
      ]
     },
     "metadata": {
      "needs_background": "light"
     },
     "output_type": "display_data"
    }
   ],
   "source": [
    "# defaulters vs bank balance distributions\n",
    "fig = plt.figure(figsize=(10,6))\n",
    "\n",
    "sns.kdeplot(data[data['Defaulted?']==1]['Annual Salary'])\n",
    "sns.kdeplot(data[data['Defaulted?']==0]['Annual Salary'])\n",
    "\n",
    "fig.legend(labels=['Defaulted', 'Not Defaulted'])\n",
    "plt.title('Based on Annual Salary')\n",
    "plt.show()"
   ]
  },
  {
   "cell_type": "markdown",
   "id": "collected-practice",
   "metadata": {
    "papermill": {
     "duration": 0.020529,
     "end_time": "2021-05-13T10:03:15.489706",
     "exception": false,
     "start_time": "2021-05-13T10:03:15.469177",
     "status": "completed"
    },
    "tags": []
   },
   "source": [
    "On average, number of defaulters with higher salary are lesser than lower annual salary"
   ]
  },
  {
   "cell_type": "code",
   "execution_count": 6,
   "id": "concrete-florist",
   "metadata": {
    "execution": {
     "iopub.execute_input": "2021-05-13T10:03:15.535614Z",
     "iopub.status.busy": "2021-05-13T10:03:15.534953Z",
     "iopub.status.idle": "2021-05-13T10:03:15.748328Z",
     "shell.execute_reply": "2021-05-13T10:03:15.749240Z"
    },
    "papermill": {
     "duration": 0.238393,
     "end_time": "2021-05-13T10:03:15.749483",
     "exception": false,
     "start_time": "2021-05-13T10:03:15.511090",
     "status": "completed"
    },
    "tags": []
   },
   "outputs": [
    {
     "data": {
      "image/png": "[encoded data removed]",
      "text/plain": [
       "<Figure size 432x288 with 1 Axes>"
      ]
     },
     "metadata": {},
     "output_type": "display_data"
    },
    {
     "data": {
      "image/png": "[encoded data removed]",
      "text/plain": [
       "<Figure size 432x288 with 1 Axes>"
      ]
     },
     "metadata": {},
     "output_type": "display_data"
    }
   ],
   "source": [
    "data.groupby('Defaulted?').size().plot.pie(autopct='%1.1f%%', title='Defaulted?');\n",
    "plt.show()\n",
    "label=[1,0]\n",
    "plt.pie(data['Employed'].value_counts(), autopct='%1.1f%%',labels=label);\n",
    "plt.title('Employed?');"
   ]
  },
  {
   "cell_type": "markdown",
   "id": "similar-refrigerator",
   "metadata": {
    "papermill": {
     "duration": 0.026304,
     "end_time": "2021-05-13T10:03:15.803934",
     "exception": false,
     "start_time": "2021-05-13T10:03:15.777630",
     "status": "completed"
    },
    "tags": []
   },
   "source": [
    "# correlation between features or with target"
   ]
  },
  {
   "cell_type": "code",
   "execution_count": 7,
   "id": "multiple-criterion",
   "metadata": {
    "execution": {
     "iopub.execute_input": "2021-05-13T10:03:15.855967Z",
     "iopub.status.busy": "2021-05-13T10:03:15.855301Z",
     "iopub.status.idle": "2021-05-13T10:03:15.873956Z",
     "shell.execute_reply": "2021-05-13T10:03:15.875014Z"
    },
    "papermill": {
     "duration": 0.048035,
     "end_time": "2021-05-13T10:03:15.875354",
     "exception": false,
     "start_time": "2021-05-13T10:03:15.827319",
     "status": "completed"
    },
    "tags": []
   },
   "outputs": [
    {
     "name": "stdout",
     "output_type": "stream",
     "text": [
      "KstestResult(statistic=0.9997, pvalue=0.0)\n"
     ]
    }
   ],
   "source": [
    "import scipy.stats as st\n",
    "print(st.ks_2samp(data['Annual Salary'], data['Bank Balance']))\n",
    "# based on the pvalue we may say that these two features are highly correlated\n",
    "# as the number of features are already small we are ignoring it"
   ]
  },
  {
   "cell_type": "markdown",
   "id": "yellow-turner",
   "metadata": {
    "papermill": {
     "duration": 0.025071,
     "end_time": "2021-05-13T10:03:15.925528",
     "exception": false,
     "start_time": "2021-05-13T10:03:15.900457",
     "status": "completed"
    },
    "tags": []
   },
   "source": [
    "# Training Model"
   ]
  },
  {
   "cell_type": "code",
   "execution_count": 8,
   "id": "convinced-authorization",
   "metadata": {
    "execution": {
     "iopub.execute_input": "2021-05-13T10:03:15.982645Z",
     "iopub.status.busy": "2021-05-13T10:03:15.981917Z",
     "iopub.status.idle": "2021-05-13T10:03:16.503946Z",
     "shell.execute_reply": "2021-05-13T10:03:16.504539Z"
    },
    "papermill": {
     "duration": 0.553483,
     "end_time": "2021-05-13T10:03:16.504780",
     "exception": false,
     "start_time": "2021-05-13T10:03:15.951297",
     "status": "completed"
    },
    "tags": []
   },
   "outputs": [],
   "source": [
    "from sklearn.model_selection import train_test_split, cross_val_score\n",
    "from sklearn.linear_model import LogisticRegression\n",
    "from sklearn import metrics, preprocessing\n",
    "from sklearn.metrics import classification_report\n",
    "from sklearn.metrics import confusion_matrix\n",
    "from sklearn.metrics import accuracy_score\n",
    "from sklearn.preprocessing import MinMaxScaler\n",
    "from sklearn.svm import SVC"
   ]
  },
  {
   "cell_type": "code",
   "execution_count": 9,
   "id": "prescribed-presence",
   "metadata": {
    "execution": {
     "iopub.execute_input": "2021-05-13T10:03:16.559639Z",
     "iopub.status.busy": "2021-05-13T10:03:16.558552Z",
     "iopub.status.idle": "2021-05-13T10:03:16.579610Z",
     "shell.execute_reply": "2021-05-13T10:03:16.580207Z"
    },
    "papermill": {
     "duration": 0.050745,
     "end_time": "2021-05-13T10:03:16.580428",
     "exception": false,
     "start_time": "2021-05-13T10:03:16.529683",
     "status": "completed"
    },
    "tags": []
   },
   "outputs": [],
   "source": [
    "feature_cols = ['Employed', 'Bank Balance', 'Annual Salary']\n",
    "\n",
    "''' Rescaling to [0,1] '''\n",
    "scaler = MinMaxScaler()\n",
    "data[feature_cols] = scaler.fit_transform(data[feature_cols])"
   ]
  },
  {
   "cell_type": "code",
   "execution_count": 10,
   "id": "modern-florida",
   "metadata": {
    "execution": {
     "iopub.execute_input": "2021-05-13T10:03:16.639198Z",
     "iopub.status.busy": "2021-05-13T10:03:16.638493Z",
     "iopub.status.idle": "2021-05-13T10:03:16.653043Z",
     "shell.execute_reply": "2021-05-13T10:03:16.653572Z"
    },
    "papermill": {
     "duration": 0.049283,
     "end_time": "2021-05-13T10:03:16.653805",
     "exception": false,
     "start_time": "2021-05-13T10:03:16.604522",
     "status": "completed"
    },
    "tags": []
   },
   "outputs": [],
   "source": [
    "X = data[feature_cols]\n",
    "y = data['Defaulted?']\n",
    "\n",
    "validation_size = 0.20\n",
    "X_train, X_test, y_train, y_test = train_test_split(X, y, test_size=validation_size, \n",
    "                                                    random_state=4, stratify=y)"
   ]
  },
  {
   "cell_type": "markdown",
   "id": "numerical-single",
   "metadata": {
    "papermill": {
     "duration": 0.023733,
     "end_time": "2021-05-13T10:03:16.702299",
     "exception": false,
     "start_time": "2021-05-13T10:03:16.678566",
     "status": "completed"
    },
    "tags": []
   },
   "source": [
    "# Model 1: Logistic Regression"
   ]
  },
  {
   "cell_type": "code",
   "execution_count": 11,
   "id": "narrow-slave",
   "metadata": {
    "execution": {
     "iopub.execute_input": "2021-05-13T10:03:16.754725Z",
     "iopub.status.busy": "2021-05-13T10:03:16.754040Z",
     "iopub.status.idle": "2021-05-13T10:03:16.807280Z",
     "shell.execute_reply": "2021-05-13T10:03:16.808169Z"
    },
    "papermill": {
     "duration": 0.080888,
     "end_time": "2021-05-13T10:03:16.808513",
     "exception": false,
     "start_time": "2021-05-13T10:03:16.727625",
     "status": "completed"
    },
    "tags": []
   },
   "outputs": [
    {
     "name": "stdout",
     "output_type": "stream",
     "text": [
      "[[ 0.37752533 13.74108117  0.39631967]]\n"
     ]
    }
   ],
   "source": [
    "model = LogisticRegression(class_weight='balanced')\n",
    "model.fit(X_train, y_train)\n",
    "print(model.coef_)"
   ]
  },
  {
   "cell_type": "code",
   "execution_count": 12,
   "id": "flush-storm",
   "metadata": {
    "execution": {
     "iopub.execute_input": "2021-05-13T10:03:16.906229Z",
     "iopub.status.busy": "2021-05-13T10:03:16.905007Z",
     "iopub.status.idle": "2021-05-13T10:03:16.989789Z",
     "shell.execute_reply": "2021-05-13T10:03:16.990707Z"
    },
    "papermill": {
     "duration": 0.140337,
     "end_time": "2021-05-13T10:03:16.991027",
     "exception": false,
     "start_time": "2021-05-13T10:03:16.850690",
     "status": "completed"
    },
    "tags": []
   },
   "outputs": [
    {
     "name": "stdout",
     "output_type": "stream",
     "text": [
      "Train metrics...\n",
      "[[6651 1083]\n",
      " [  26  240]]\n",
      "              precision    recall  f1-score   support\n",
      "\n",
      "           0       1.00      0.86      0.92      7734\n",
      "           1       0.18      0.90      0.30       266\n",
      "\n",
      "    accuracy                           0.86      8000\n",
      "   macro avg       0.59      0.88      0.61      8000\n",
      "weighted avg       0.97      0.86      0.90      8000\n",
      "\n",
      "Test metrics...\n",
      "[[1684  249]\n",
      " [   7   60]]\n",
      "              precision    recall  f1-score   support\n",
      "\n",
      "           0       1.00      0.87      0.93      1933\n",
      "           1       0.19      0.90      0.32        67\n",
      "\n",
      "    accuracy                           0.87      2000\n",
      "   macro avg       0.60      0.88      0.62      2000\n",
      "weighted avg       0.97      0.87      0.91      2000\n",
      "\n"
     ]
    }
   ],
   "source": [
    "y_pred = model.predict(X_train)\n",
    "\n",
    "print('Train metrics...')\n",
    "print(confusion_matrix(y_train, y_pred))\n",
    "print(classification_report(y_train, y_pred))\n",
    "\n",
    "y_pred = model.predict(X_test)\n",
    "\n",
    "print('Test metrics...')\n",
    "print(confusion_matrix(y_test, y_pred))\n",
    "print(classification_report(y_test, y_pred))"
   ]
  },
  {
   "cell_type": "code",
   "execution_count": 13,
   "id": "opposed-louis",
   "metadata": {
    "execution": {
     "iopub.execute_input": "2021-05-13T10:03:17.070741Z",
     "iopub.status.busy": "2021-05-13T10:03:17.069410Z",
     "iopub.status.idle": "2021-05-13T10:03:17.152297Z",
     "shell.execute_reply": "2021-05-13T10:03:17.153293Z"
    },
    "papermill": {
     "duration": 0.121894,
     "end_time": "2021-05-13T10:03:17.153646",
     "exception": false,
     "start_time": "2021-05-13T10:03:17.031752",
     "status": "completed"
    },
    "tags": []
   },
   "outputs": [
    {
     "data": {
      "text/html": [
       "<div>\n",
       "<style scoped>\n",
       "    .dataframe tbody tr th:only-of-type {\n",
       "        vertical-align: middle;\n",
       "    }\n",
       "\n",
       "    .dataframe tbody tr th {\n",
       "        vertical-align: top;\n",
       "    }\n",
       "\n",
       "    .dataframe thead tr th {\n",
       "        text-align: left;\n",
       "    }\n",
       "</style>\n",
       "<table border=\"1\" class=\"dataframe\">\n",
       "  <thead>\n",
       "    <tr>\n",
       "      <th></th>\n",
       "      <th></th>\n",
       "      <th colspan=\"2\" halign=\"left\">prediction defaulted ?</th>\n",
       "    </tr>\n",
       "    <tr>\n",
       "      <th></th>\n",
       "      <th></th>\n",
       "      <th>No</th>\n",
       "      <th>Yes</th>\n",
       "    </tr>\n",
       "  </thead>\n",
       "  <tbody>\n",
       "    <tr>\n",
       "      <th rowspan=\"2\" valign=\"top\">actual defaulted?</th>\n",
       "      <th>No</th>\n",
       "      <td>8335</td>\n",
       "      <td>1332</td>\n",
       "    </tr>\n",
       "    <tr>\n",
       "      <th>Yes</th>\n",
       "      <td>33</td>\n",
       "      <td>300</td>\n",
       "    </tr>\n",
       "  </tbody>\n",
       "</table>\n",
       "</div>"
      ],
      "text/plain": [
       "                      prediction defaulted ?      \n",
       "                                          No   Yes\n",
       "actual defaulted? No                    8335  1332\n",
       "                  Yes                     33   300"
      ]
     },
     "metadata": {},
     "output_type": "display_data"
    },
    {
     "name": "stdout",
     "output_type": "stream",
     "text": [
      "              precision    recall  f1-score   support\n",
      "\n",
      "           0       1.00      0.86      0.92      9667\n",
      "           1       0.18      0.90      0.31       333\n",
      "\n",
      "    accuracy                           0.86     10000\n",
      "   macro avg       0.59      0.88      0.61     10000\n",
      "weighted avg       0.97      0.86      0.90     10000\n",
      "\n"
     ]
    }
   ],
   "source": [
    "''' metrics on original data '''\n",
    "y_pred = model.predict(data[feature_cols])\n",
    "\n",
    "def make_cm(matrix, columns):\n",
    "    n = len(columns)\n",
    "    act = ['actual defaulted?'] * n\n",
    "    pred = ['prediction defaulted ?'] * n\n",
    "\n",
    "    cm = pd.DataFrame(matrix, \n",
    "        columns=[pred, columns], index=[act, columns])\n",
    "    return cm\n",
    "\n",
    "df_matrix=make_cm(\n",
    "    confusion_matrix(data['Defaulted?'], y_pred),['No','Yes'])\n",
    "\n",
    "display(df_matrix)\n",
    "print(classification_report(data['Defaulted?'], y_pred))"
   ]
  },
  {
   "cell_type": "markdown",
   "id": "prescription-portrait",
   "metadata": {
    "papermill": {
     "duration": 0.025004,
     "end_time": "2021-05-13T10:03:17.219880",
     "exception": false,
     "start_time": "2021-05-13T10:03:17.194876",
     "status": "completed"
    },
    "tags": []
   },
   "source": [
    "# Model 2: SVM"
   ]
  },
  {
   "cell_type": "code",
   "execution_count": 14,
   "id": "decimal-indonesian",
   "metadata": {
    "execution": {
     "iopub.execute_input": "2021-05-13T10:03:17.279805Z",
     "iopub.status.busy": "2021-05-13T10:03:17.278841Z",
     "iopub.status.idle": "2021-05-13T10:03:19.146329Z",
     "shell.execute_reply": "2021-05-13T10:03:19.145719Z"
    },
    "papermill": {
     "duration": 1.901312,
     "end_time": "2021-05-13T10:03:19.146535",
     "exception": false,
     "start_time": "2021-05-13T10:03:17.245223",
     "status": "completed"
    },
    "tags": []
   },
   "outputs": [
    {
     "data": {
      "text/plain": [
       "SVC(class_weight={0: 1, 1: 100})"
      ]
     },
     "execution_count": 14,
     "metadata": {},
     "output_type": "execute_result"
    }
   ],
   "source": [
    "model = SVC(class_weight={0: 1, 1: 100})\n",
    "model.fit(X_train, y_train)"
   ]
  },
  {
   "cell_type": "code",
   "execution_count": 15,
   "id": "civil-vocabulary",
   "metadata": {
    "execution": {
     "iopub.execute_input": "2021-05-13T10:03:19.215307Z",
     "iopub.status.busy": "2021-05-13T10:03:19.214100Z",
     "iopub.status.idle": "2021-05-13T10:03:21.403554Z",
     "shell.execute_reply": "2021-05-13T10:03:21.402946Z"
    },
    "papermill": {
     "duration": 2.228231,
     "end_time": "2021-05-13T10:03:21.403724",
     "exception": false,
     "start_time": "2021-05-13T10:03:19.175493",
     "status": "completed"
    },
    "tags": []
   },
   "outputs": [
    {
     "name": "stdout",
     "output_type": "stream",
     "text": [
      "Train metrics...\n",
      "[[5378 2356]\n",
      " [   6  260]]\n",
      "              precision    recall  f1-score   support\n",
      "\n",
      "           0       1.00      0.70      0.82      7734\n",
      "           1       0.10      0.98      0.18       266\n",
      "\n",
      "    accuracy                           0.70      8000\n",
      "   macro avg       0.55      0.84      0.50      8000\n",
      "weighted avg       0.97      0.70      0.80      8000\n",
      "\n",
      "Test metrics...\n",
      "[[1358  575]\n",
      " [   1   66]]\n",
      "              precision    recall  f1-score   support\n",
      "\n",
      "           0       1.00      0.70      0.83      1933\n",
      "           1       0.10      0.99      0.19        67\n",
      "\n",
      "    accuracy                           0.71      2000\n",
      "   macro avg       0.55      0.84      0.51      2000\n",
      "weighted avg       0.97      0.71      0.80      2000\n",
      "\n"
     ]
    }
   ],
   "source": [
    "y_pred = model.predict(X_train)\n",
    "\n",
    "print('Train metrics...')\n",
    "print(confusion_matrix(y_train, y_pred))\n",
    "print(classification_report(y_train, y_pred))\n",
    "\n",
    "y_pred = model.predict(X_test)\n",
    "\n",
    "print('Test metrics...')\n",
    "print(confusion_matrix(y_test, y_pred))\n",
    "print(classification_report(y_test, y_pred))"
   ]
  },
  {
   "cell_type": "code",
   "execution_count": 16,
   "id": "infectious-operator",
   "metadata": {
    "execution": {
     "iopub.execute_input": "2021-05-13T10:03:21.469563Z",
     "iopub.status.busy": "2021-05-13T10:03:21.468329Z",
     "iopub.status.idle": "2021-05-13T10:03:23.681241Z",
     "shell.execute_reply": "2021-05-13T10:03:23.680534Z"
    },
    "papermill": {
     "duration": 2.250767,
     "end_time": "2021-05-13T10:03:23.681415",
     "exception": false,
     "start_time": "2021-05-13T10:03:21.430648",
     "status": "completed"
    },
    "tags": []
   },
   "outputs": [
    {
     "data": {
      "text/html": [
       "<div>\n",
       "<style scoped>\n",
       "    .dataframe tbody tr th:only-of-type {\n",
       "        vertical-align: middle;\n",
       "    }\n",
       "\n",
       "    .dataframe tbody tr th {\n",
       "        vertical-align: top;\n",
       "    }\n",
       "\n",
       "    .dataframe thead tr th {\n",
       "        text-align: left;\n",
       "    }\n",
       "</style>\n",
       "<table border=\"1\" class=\"dataframe\">\n",
       "  <thead>\n",
       "    <tr>\n",
       "      <th></th>\n",
       "      <th></th>\n",
       "      <th colspan=\"2\" halign=\"left\">prediction defaulted ?</th>\n",
       "    </tr>\n",
       "    <tr>\n",
       "      <th></th>\n",
       "      <th></th>\n",
       "      <th>No</th>\n",
       "      <th>Yes</th>\n",
       "    </tr>\n",
       "  </thead>\n",
       "  <tbody>\n",
       "    <tr>\n",
       "      <th rowspan=\"2\" valign=\"top\">actual defaulted?</th>\n",
       "      <th>No</th>\n",
       "      <td>6736</td>\n",
       "      <td>2931</td>\n",
       "    </tr>\n",
       "    <tr>\n",
       "      <th>Yes</th>\n",
       "      <td>7</td>\n",
       "      <td>326</td>\n",
       "    </tr>\n",
       "  </tbody>\n",
       "</table>\n",
       "</div>"
      ],
      "text/plain": [
       "                      prediction defaulted ?      \n",
       "                                          No   Yes\n",
       "actual defaulted? No                    6736  2931\n",
       "                  Yes                      7   326"
      ]
     },
     "metadata": {},
     "output_type": "display_data"
    },
    {
     "name": "stdout",
     "output_type": "stream",
     "text": [
      "              precision    recall  f1-score   support\n",
      "\n",
      "           0       1.00      0.70      0.82      9667\n",
      "           1       0.10      0.98      0.18       333\n",
      "\n",
      "    accuracy                           0.71     10000\n",
      "   macro avg       0.55      0.84      0.50     10000\n",
      "weighted avg       0.97      0.71      0.80     10000\n",
      "\n"
     ]
    }
   ],
   "source": [
    "''' metrics on original data '''\n",
    "y_pred = model.predict(data[feature_cols])\n",
    "\n",
    "def make_cm(matrix, columns):\n",
    "    n = len(columns)\n",
    "    act = ['actual defaulted?'] * n\n",
    "    pred = ['prediction defaulted ?'] * n\n",
    "\n",
    "    cm = pd.DataFrame(matrix, \n",
    "        columns=[pred, columns], index=[act, columns])\n",
    "    return cm\n",
    "\n",
    "df_matrix=make_cm(\n",
    "    confusion_matrix(data['Defaulted?'], y_pred),['No','Yes'])\n",
    "\n",
    "display(df_matrix)\n",
    "print(classification_report(data['Defaulted?'], y_pred))"
   ]
  },
  {
   "cell_type": "code",
   "execution_count": null,
   "id": "cathedral-processing",
   "metadata": {
    "papermill": {
     "duration": 0.027625,
     "end_time": "2021-05-13T10:03:23.736792",
     "exception": false,
     "start_time": "2021-05-13T10:03:23.709167",
     "status": "completed"
    },
    "tags": []
   },
   "outputs": [],
   "source": []
  }
 ],
 "metadata": {
  "kernelspec": {
   "display_name": "Python 3",
   "language": "python",
   "name": "python3"
  },
  "language_info": {
   "codemirror_mode": {
    "name": "ipython",
    "version": 3
   },
   "file_extension": ".py",
   "mimetype": "text/x-python",
   "name": "python",
   "nbconvert_exporter": "python",
   "pygments_lexer": "ipython3",
   "version": "3.7.10"
  },
  "papermill": {
   "default_parameters": {},
   "duration": 21.086517,
   "end_time": "2021-05-13T10:03:25.493583",
   "environment_variables": {},
   "exception": null,
   "input_path": "__notebook__.ipynb",
   "output_path": "__notebook__.ipynb",
   "parameters": {},
   "start_time": "2021-05-13T10:03:04.407066",
   "version": "2.3.3"
  }
 },
 "nbformat": 4,
 "nbformat_minor": 5
}
